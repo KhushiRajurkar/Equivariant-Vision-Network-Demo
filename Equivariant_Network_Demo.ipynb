{
  "cells": [
    {
      "cell_type": "markdown",
      "source": [
        "# **1. Import Libraries**"
      ],
      "metadata": {
        "id": "E-NM-cpo5Ig9"
      },
      "id": "E-NM-cpo5Ig9"
    },
    {
      "cell_type": "code",
      "source": [
        "!pip install e2cnn"
      ],
      "metadata": {
        "colab": {
          "base_uri": "https://localhost:8080/"
        },
        "id": "7XWXH6fc6Qa7",
        "outputId": "42165be5-6a62-4171-a27e-a4c212bb4283"
      },
      "id": "7XWXH6fc6Qa7",
      "execution_count": 2,
      "outputs": [
        {
          "output_type": "stream",
          "name": "stdout",
          "text": [
            "Collecting e2cnn\n",
            "  Downloading e2cnn-0.2.3-py3-none-any.whl.metadata (15 kB)\n",
            "Requirement already satisfied: torch in /usr/local/lib/python3.11/dist-packages (from e2cnn) (2.6.0+cpu)\n",
            "Requirement already satisfied: numpy in /usr/local/lib/python3.11/dist-packages (from e2cnn) (2.0.2)\n",
            "Requirement already satisfied: scipy in /usr/local/lib/python3.11/dist-packages (from e2cnn) (1.14.1)\n",
            "Requirement already satisfied: sympy in /usr/local/lib/python3.11/dist-packages (from e2cnn) (1.13.1)\n",
            "Requirement already satisfied: mpmath<1.4,>=1.1.0 in /usr/local/lib/python3.11/dist-packages (from sympy->e2cnn) (1.3.0)\n",
            "Requirement already satisfied: filelock in /usr/local/lib/python3.11/dist-packages (from torch->e2cnn) (3.18.0)\n",
            "Requirement already satisfied: typing-extensions>=4.10.0 in /usr/local/lib/python3.11/dist-packages (from torch->e2cnn) (4.13.0)\n",
            "Requirement already satisfied: networkx in /usr/local/lib/python3.11/dist-packages (from torch->e2cnn) (3.4.2)\n",
            "Requirement already satisfied: jinja2 in /usr/local/lib/python3.11/dist-packages (from torch->e2cnn) (3.1.6)\n",
            "Requirement already satisfied: fsspec in /usr/local/lib/python3.11/dist-packages (from torch->e2cnn) (2025.3.2)\n",
            "Requirement already satisfied: MarkupSafe>=2.0 in /usr/local/lib/python3.11/dist-packages (from jinja2->torch->e2cnn) (3.0.2)\n",
            "Downloading e2cnn-0.2.3-py3-none-any.whl (225 kB)\n",
            "\u001b[2K   \u001b[90m━━━━━━━━━━━━━━━━━━━━━━━━━━━━━━━━━━━━━━━━\u001b[0m \u001b[32m225.3/225.3 kB\u001b[0m \u001b[31m4.9 MB/s\u001b[0m eta \u001b[36m0:00:00\u001b[0m\n",
            "\u001b[?25hInstalling collected packages: e2cnn\n",
            "Successfully installed e2cnn-0.2.3\n"
          ]
        }
      ]
    },
    {
      "cell_type": "code",
      "source": [
        "import torch\n",
        "import numpy as np\n",
        "import matplotlib.pyplot as plt\n",
        "from e2cnn import gspaces\n",
        "from e2cnn import nn as enn"
      ],
      "metadata": {
        "id": "O0R_unc25LkR"
      },
      "id": "O0R_unc25LkR",
      "execution_count": 3,
      "outputs": []
    },
    {
      "cell_type": "markdown",
      "source": [
        "# **2. Define the Neural Network Architecture**"
      ],
      "metadata": {
        "id": "n5sKoQml5PYu"
      },
      "id": "n5sKoQml5PYu"
    },
    {
      "cell_type": "code",
      "source": [
        "# Define the EquivariantCNN\n",
        "class EquivariantCNN(torch.nn.Module):\n",
        "    def __init__(self):\n",
        "        super().__init__()\n",
        "        self.r2_act = gspaces.Rot2dOnR2(N=8)\n",
        "\n",
        "        # Input: 1 channel (trivial representation)\n",
        "        self.input_type = enn.FieldType(self.r2_act, [self.r2_act.trivial_repr])\n",
        "        self.output_type = enn.FieldType(self.r2_act, 16 * [self.r2_act.regular_repr])\n",
        "\n",
        "        self.block1 = enn.SequentialModule(\n",
        "        enn.R2Conv(self.input_type, self.output_type, kernel_size=5, padding=2, bias=False),\n",
        "        enn.InnerBatchNorm(self.output_type),  # ✅ BatchNorm added here\n",
        "        enn.ReLU(self.output_type, inplace=True),\n",
        "        enn.PointwiseMaxPool(self.output_type, 2)\n",
        "        )\n",
        "\n",
        "        self.block2 = enn.SequentialModule(\n",
        "        enn.R2Conv(self.output_type, self.output_type, kernel_size=3, padding=1, bias=False),\n",
        "        enn.InnerBatchNorm(self.output_type),  # ✅ BatchNorm added here too\n",
        "        enn.ReLU(self.output_type, inplace=True),\n",
        "        enn.PointwiseMaxPool(self.output_type, 2)\n",
        "        )\n",
        "\n",
        "        self.gpool = enn.GroupPooling(self.output_type)\n",
        "        self.fc = torch.nn.Linear(16, 1)\n",
        "\n",
        "    def forward(self, x):\n",
        "        x = enn.GeometricTensor(x, self.input_type)\n",
        "        x = self.block1(x)\n",
        "        x = self.block2(x)\n",
        "        x = self.gpool(x)\n",
        "        x = x.tensor.mean(dim=(-1, -2))\n",
        "        return self.fc(x).squeeze()"
      ],
      "metadata": {
        "id": "ic5j5PB75ORR"
      },
      "id": "ic5j5PB75ORR",
      "execution_count": 4,
      "outputs": []
    },
    {
      "cell_type": "markdown",
      "source": [
        "# **3. Data Simulation and Split**"
      ],
      "metadata": {
        "id": "vw5_pFki5Xi_"
      },
      "id": "vw5_pFki5Xi_"
    },
    {
      "cell_type": "code",
      "source": [
        "# Simulate dataset\n",
        "def simulate_equivariant_data(n_samples=1000):\n",
        "    X = np.zeros((n_samples, 1, 64, 64))\n",
        "    y = np.random.randint(1, 6, size=(n_samples,))\n",
        "    for i in range(n_samples):\n",
        "        for _ in range(y[i]):\n",
        "            x, y_coord = np.random.randint(5, 59, size=2)\n",
        "            X[i, 0, x-2:x+2, y_coord-2:y_coord+2] = 1.0  # Planet-like blobs\n",
        "    return torch.tensor(X, dtype=torch.float32), torch.tensor(y, dtype=torch.float32)\n",
        "\n",
        "# Load data and normalize targets\n",
        "X, y = simulate_equivariant_data()\n",
        "y_norm = (y - 1) / 4  # Normalize to [0, 1]"
      ],
      "metadata": {
        "id": "L6rk2vI65kQW"
      },
      "id": "L6rk2vI65kQW",
      "execution_count": 5,
      "outputs": []
    },
    {
      "cell_type": "markdown",
      "source": [
        "# **4. Train the model and Plot Predictions**"
      ],
      "metadata": {
        "id": "mPNLYQco5nma"
      },
      "id": "mPNLYQco5nma"
    },
    {
      "cell_type": "code",
      "source": [
        "# Instantiate model\n",
        "model = EquivariantCNN()\n",
        "\n",
        "# Training function\n",
        "def train_equivariant_model(model, X, y, epochs=100):\n",
        "    optimizer = torch.optim.Adam(model.parameters(), lr=0.001)\n",
        "    loss_fn = torch.nn.MSELoss()\n",
        "    model.train()\n",
        "    for epoch in range(epochs):\n",
        "        optimizer.zero_grad()\n",
        "        preds = model(X)\n",
        "        loss = loss_fn(preds, y)\n",
        "        loss.backward()\n",
        "        optimizer.step()\n",
        "        if epoch % 10 == 0:\n",
        "            print(f\"Epoch {epoch+1} — Loss: {loss.item():.4f}\")\n",
        "\n",
        "# Train the model on normalized targets\n",
        "train_equivariant_model(model, X, y_norm, epochs=100)\n",
        "\n",
        "# Evaluate model\n",
        "model.eval()\n",
        "with torch.no_grad():\n",
        "    preds = model(X).detach()\n",
        "\n",
        "# Unnormalize predictions and ground truth\n",
        "preds = preds * 4 + 1\n",
        "y_true = y_norm * 4 + 1"
      ],
      "metadata": {
        "colab": {
          "base_uri": "https://localhost:8080/"
        },
        "id": "jeCYiNzm5aPS",
        "outputId": "860bd9ca-3d20-49d9-9165-6472a2c2582e"
      },
      "id": "jeCYiNzm5aPS",
      "execution_count": 6,
      "outputs": [
        {
          "output_type": "stream",
          "name": "stderr",
          "text": [
            "/usr/local/lib/python3.11/dist-packages/e2cnn/nn/modules/r2_conv/basisexpansion_singleblock.py:80: UserWarning: indexing with dtype torch.uint8 is now deprecated, please use a dtype torch.bool instead. (Triggered internally at /pytorch/aten/src/ATen/native/IndexingUtils.h:29.)\n",
            "  full_mask[mask] = norms.to(torch.uint8)\n"
          ]
        },
        {
          "output_type": "stream",
          "name": "stdout",
          "text": [
            "Epoch 1 — Loss: 0.6358\n",
            "Epoch 11 — Loss: 0.0981\n",
            "Epoch 21 — Loss: 0.0288\n",
            "Epoch 31 — Loss: 0.0304\n",
            "Epoch 41 — Loss: 0.0260\n",
            "Epoch 51 — Loss: 0.0249\n",
            "Epoch 61 — Loss: 0.0235\n",
            "Epoch 71 — Loss: 0.0221\n",
            "Epoch 81 — Loss: 0.0209\n",
            "Epoch 91 — Loss: 0.0198\n"
          ]
        }
      ]
    },
    {
      "cell_type": "markdown",
      "source": [
        "# **5. Plot predictions**"
      ],
      "metadata": {
        "id": "6EGEniwL5929"
      },
      "id": "6EGEniwL5929"
    },
    {
      "cell_type": "code",
      "source": [
        "# Plot predictions\n",
        "plt.scatter(y_true.numpy(), preds.numpy(), color=\"royalblue\", alpha=0.7)\n",
        "plt.plot([1, 5], [1, 5], '--', color='gray')\n",
        "plt.xlabel(\"True Number of Planets\")\n",
        "plt.ylabel(\"Predicted\")\n",
        "plt.title(\"Prediction Scatter Plot (EquivariantCNN)\")\n",
        "plt.grid(True)\n",
        "plt.show()"
      ],
      "metadata": {
        "colab": {
          "base_uri": "https://localhost:8080/",
          "height": 472
        },
        "id": "4G58kKVK54Ky",
        "outputId": "124a1d87-49b7-497b-f746-7d089ba9c523"
      },
      "id": "4G58kKVK54Ky",
      "execution_count": 7,
      "outputs": [
        {
          "output_type": "display_data",
          "data": {
            "text/plain": [
              "<Figure size 640x480 with 1 Axes>"
            ],
            "image/png": "[encoded data removed]"
          },
          "metadata": {}
        }
      ]
    },
    {
      "cell_type": "markdown",
      "source": [
        "# **6. Testing the model on samples**"
      ],
      "metadata": {
        "id": "hPD5DJuF6CNI"
      },
      "id": "hPD5DJuF6CNI"
    },
    {
      "cell_type": "code",
      "source": [
        "# Print sample results\n",
        "for i in range(10):  # only show first 10\n",
        "    print(f\"Sample {i+1}: True = {int(y_true[i].item())}, Predicted ≈ {preds[i].item():.2f}\")"
      ],
      "metadata": {
        "id": "7zioaFfp6QlG",
        "colab": {
          "base_uri": "https://localhost:8080/"
        },
        "outputId": "825f125f-a5e4-4bb5-ac3e-10ad90d04879"
      },
      "id": "7zioaFfp6QlG",
      "execution_count": 8,
      "outputs": [
        {
          "output_type": "stream",
          "name": "stdout",
          "text": [
            "Sample 1: True = 5, Predicted ≈ 4.73\n",
            "Sample 2: True = 1, Predicted ≈ 1.81\n",
            "Sample 3: True = 1, Predicted ≈ 1.86\n",
            "Sample 4: True = 5, Predicted ≈ 4.74\n",
            "Sample 5: True = 4, Predicted ≈ 3.95\n",
            "Sample 6: True = 1, Predicted ≈ 1.82\n",
            "Sample 7: True = 4, Predicted ≈ 4.13\n",
            "Sample 8: True = 2, Predicted ≈ 2.58\n",
            "Sample 9: True = 1, Predicted ≈ 1.81\n",
            "Sample 10: True = 1, Predicted ≈ 1.86\n"
          ]
        }
      ]
    },
    {
      "cell_type": "code",
      "source": [],
      "metadata": {
        "id": "sH6AZBgp51Mz"
      },
      "id": "sH6AZBgp51Mz",
      "execution_count": 8,
      "outputs": []
    }
  ],
  "metadata": {
    "colab": {
      "provenance": [],
      "gpuType": "V28"
    },
    "language_info": {
      "name": "python"
    },
    "kernelspec": {
      "name": "python3",
      "display_name": "Python 3"
    },
    "accelerator": "TPU"
  },
  "nbformat": 4,
  "nbformat_minor": 5
}